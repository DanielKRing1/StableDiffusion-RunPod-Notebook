{
 "cells": [
  {
   "cell_type": "code",
   "execution_count": 1,
   "id": "052f516a-ec8e-41a2-86a8-3c928c98cee8",
   "metadata": {},
   "outputs": [
    {
     "name": "stdout",
     "output_type": "stream",
     "text": [
      "Get:1 https://developer.download.nvidia.com/compute/cuda/repos/ubuntu2204/x86_64  InRelease [1581 B]\n",
      "Get:2 https://ppa.launchpadcontent.net/deadsnakes/ppa/ubuntu jammy InRelease [18.1 kB]\n",
      "Get:3 http://security.ubuntu.com/ubuntu jammy-security InRelease [110 kB]      \n",
      "Get:4 http://archive.ubuntu.com/ubuntu jammy InRelease [270 kB]\n",
      "Get:5 https://developer.download.nvidia.com/compute/cuda/repos/ubuntu2204/x86_64  Packages [416 kB]\n",
      "Get:6 http://archive.ubuntu.com/ubuntu jammy-updates InRelease [119 kB]        \n",
      "Get:7 https://ppa.launchpadcontent.net/deadsnakes/ppa/ubuntu jammy/main amd64 Packages [21.7 kB]\n",
      "Get:8 http://archive.ubuntu.com/ubuntu jammy-backports InRelease [108 kB]\n",
      "Get:9 http://security.ubuntu.com/ubuntu jammy-security/main amd64 Packages [731 kB]\n",
      "Get:10 http://archive.ubuntu.com/ubuntu jammy/universe amd64 Packages [17.5 MB]\n",
      "Get:11 http://security.ubuntu.com/ubuntu jammy-security/universe amd64 Packages [952 kB]\n",
      "Get:12 http://security.ubuntu.com/ubuntu jammy-security/multiverse amd64 Packages [44.0 kB]\n",
      "Get:13 http://security.ubuntu.com/ubuntu jammy-security/restricted amd64 Packages [734 kB]\n",
      "Get:14 http://archive.ubuntu.com/ubuntu jammy/restricted amd64 Packages [164 kB]\n",
      "Get:15 http://archive.ubuntu.com/ubuntu jammy/main amd64 Packages [1792 kB]\n",
      "Get:16 http://archive.ubuntu.com/ubuntu jammy/multiverse amd64 Packages [266 kB]\n",
      "Get:17 http://archive.ubuntu.com/ubuntu jammy-updates/multiverse amd64 Packages [49.8 kB]\n",
      "Get:18 http://archive.ubuntu.com/ubuntu jammy-updates/restricted amd64 Packages [749 kB]\n",
      "Get:19 http://archive.ubuntu.com/ubuntu jammy-updates/main amd64 Packages [1016 kB]\n",
      "Get:20 http://archive.ubuntu.com/ubuntu jammy-updates/universe amd64 Packages [1208 kB]\n",
      "Get:21 http://archive.ubuntu.com/ubuntu jammy-backports/main amd64 Packages [49.4 kB]\n",
      "Get:22 http://archive.ubuntu.com/ubuntu jammy-backports/universe amd64 Packages [25.6 kB]\n",
      "Fetched 26.3 MB in 5s (5705 kB/s)                           \n",
      "Reading package lists... Done\n",
      "Reading package lists... Done\n",
      "Building dependency tree... Done\n",
      "Reading state information... Done\n",
      "wget is already the newest version (1.21.2-2ubuntu1).\n",
      "git is already the newest version (1:2.34.1-1ubuntu1.9).\n",
      "python3.10 is already the newest version (3.10.6-1~22.04.2ubuntu1.1).\n",
      "python3.10 set to manually installed.\n",
      "The following NEW packages will be installed:\n",
      "  python3-venv\n",
      "0 upgraded, 1 newly installed, 0 to remove and 5 not upgraded.\n",
      "Need to get 1038 B of archives.\n",
      "After this operation, 6144 B of additional disk space will be used.\n",
      "Get:1 http://archive.ubuntu.com/ubuntu jammy-updates/universe amd64 python3-venv amd64 3.10.6-1~22.04 [1038 B]\n",
      "Fetched 1038 B in 0s (11.0 kB/s)       \u001b[0m\u001b[33m\n",
      "debconf: delaying package configuration, since apt-utils is not installed\n",
      "\n",
      "\u001b7\u001b[0;23r\u001b8\u001b[1ASelecting previously unselected package python3-venv.\n",
      "(Reading database ... 20708 files and directories currently installed.)\n",
      "Preparing to unpack .../python3-venv_3.10.6-1~22.04_amd64.deb ...\n",
      "\u001b7\u001b[24;0f\u001b[42m\u001b[30mProgress: [  0%]\u001b[49m\u001b[39m [..........................................................] \u001b8\u001b7\u001b[24;0f\u001b[42m\u001b[30mProgress: [ 20%]\u001b[49m\u001b[39m [###########...............................................] \u001b8Unpacking python3-venv (3.10.6-1~22.04) ...\n",
      "\u001b7\u001b[24;0f\u001b[42m\u001b[30mProgress: [ 40%]\u001b[49m\u001b[39m [#######################...................................] \u001b8Setting up python3-venv (3.10.6-1~22.04) ...\n",
      "\u001b7\u001b[24;0f\u001b[42m\u001b[30mProgress: [ 60%]\u001b[49m\u001b[39m [##################################........................] \u001b8\u001b7\u001b[24;0f\u001b[42m\u001b[30mProgress: [ 80%]\u001b[49m\u001b[39m [##############################################............] \u001b8\n",
      "Reading package lists... Done\n",
      "Building dependency tree... Done\n",
      "Reading state information... Done\n",
      "The following additional packages will be installed:\n",
      "  libgoogle-perftools4 libtcmalloc-minimal4\n",
      "Suggested packages:\n",
      "  libgoogle-perftools-dev\n",
      "Recommended packages:\n",
      "  graphviz gv\n",
      "The following NEW packages will be installed:\n",
      "  google-perftools libgoogle-perftools4 libtcmalloc-minimal4\n",
      "0 upgraded, 3 newly installed, 0 to remove and 5 not upgraded.\n",
      "Need to get 363 kB of archives.\n",
      "After this operation, 1817 kB of additional disk space will be used.\n",
      "Get:1 http://archive.ubuntu.com/ubuntu jammy/main amd64 libtcmalloc-minimal4 amd64 2.9.1-0ubuntu3 [98.2 kB]\n",
      "Get:2 http://archive.ubuntu.com/ubuntu jammy/main amd64 libgoogle-perftools4 amd64 2.9.1-0ubuntu3 [212 kB]\n",
      "Get:3 http://archive.ubuntu.com/ubuntu jammy/universe amd64 google-perftools all 2.9.1-0ubuntu3 [52.7 kB]\n",
      "Fetched 363 kB in 0s (910 kB/s)           \u001b[0m\u001b[33m\n",
      "debconf: delaying package configuration, since apt-utils is not installed\n",
      "\n",
      "\u001b7\u001b[0;23r\u001b8\u001b[1ASelecting previously unselected package libtcmalloc-minimal4:amd64.\n",
      "(Reading database ... 20709 files and directories currently installed.)\n",
      "Preparing to unpack .../libtcmalloc-minimal4_2.9.1-0ubuntu3_amd64.deb ...\n",
      "\u001b7\u001b[24;0f\u001b[42m\u001b[30mProgress: [  0%]\u001b[49m\u001b[39m [..........................................................] \u001b8\u001b7\u001b[24;0f\u001b[42m\u001b[30mProgress: [  8%]\u001b[49m\u001b[39m [####......................................................] \u001b8Unpacking libtcmalloc-minimal4:amd64 (2.9.1-0ubuntu3) ...\n",
      "\u001b7\u001b[24;0f\u001b[42m\u001b[30mProgress: [ 15%]\u001b[49m\u001b[39m [########..................................................] \u001b8Selecting previously unselected package libgoogle-perftools4:amd64.\n",
      "Preparing to unpack .../libgoogle-perftools4_2.9.1-0ubuntu3_amd64.deb ...\n",
      "\u001b7\u001b[24;0f\u001b[42m\u001b[30mProgress: [ 23%]\u001b[49m\u001b[39m [#############.............................................] \u001b8Unpacking libgoogle-perftools4:amd64 (2.9.1-0ubuntu3) ...\n",
      "\u001b7\u001b[24;0f\u001b[42m\u001b[30mProgress: [ 31%]\u001b[49m\u001b[39m [#################.........................................] \u001b8Selecting previously unselected package google-perftools.\n",
      "Preparing to unpack .../google-perftools_2.9.1-0ubuntu3_all.deb ...\n",
      "\u001b7\u001b[24;0f\u001b[42m\u001b[30mProgress: [ 38%]\u001b[49m\u001b[39m [######################....................................] \u001b8Unpacking google-perftools (2.9.1-0ubuntu3) ...\n",
      "\u001b7\u001b[24;0f\u001b[42m\u001b[30mProgress: [ 46%]\u001b[49m\u001b[39m [##########################................................] \u001b8Setting up libtcmalloc-minimal4:amd64 (2.9.1-0ubuntu3) ...\n",
      "\u001b7\u001b[24;0f\u001b[42m\u001b[30mProgress: [ 54%]\u001b[49m\u001b[39m [###############################...........................] \u001b8\u001b7\u001b[24;0f\u001b[42m\u001b[30mProgress: [ 62%]\u001b[49m\u001b[39m [###################################.......................] \u001b8Setting up libgoogle-perftools4:amd64 (2.9.1-0ubuntu3) ...\n",
      "\u001b7\u001b[24;0f\u001b[42m\u001b[30mProgress: [ 69%]\u001b[49m\u001b[39m [########################################..................] \u001b8\u001b7\u001b[24;0f\u001b[42m\u001b[30mProgress: [ 77%]\u001b[49m\u001b[39m [############################################..............] \u001b8Setting up google-perftools (2.9.1-0ubuntu3) ...\n",
      "\u001b7\u001b[24;0f\u001b[42m\u001b[30mProgress: [ 85%]\u001b[49m\u001b[39m [#################################################.........] \u001b8\u001b7\u001b[24;0f\u001b[42m\u001b[30mProgress: [ 92%]\u001b[49m\u001b[39m [#####################################################.....] \u001b8Processing triggers for libc-bin (2.35-0ubuntu3.1) ...\n",
      "\n",
      "Reading package lists... Done\n",
      "Building dependency tree... Done\n",
      "Reading state information... Done\n",
      "The following NEW packages will be installed:\n",
      "  sudo\n",
      "0 upgraded, 1 newly installed, 0 to remove and 5 not upgraded.\n",
      "Need to get 821 kB of archives.\n",
      "After this operation, 2568 kB of additional disk space will be used.\n",
      "Get:1 http://archive.ubuntu.com/ubuntu jammy-updates/main amd64 sudo amd64 1.9.9-1ubuntu2.4 [821 kB]\n",
      "Fetched 821 kB in 0s (2397 kB/s)m\u001b[33m\n",
      "debconf: delaying package configuration, since apt-utils is not installed\n",
      "\n",
      "\u001b7\u001b[0;23r\u001b8\u001b[1ASelecting previously unselected package sudo.\n",
      "(Reading database ... 20734 files and directories currently installed.)\n",
      "Preparing to unpack .../sudo_1.9.9-1ubuntu2.4_amd64.deb ...\n",
      "\u001b7\u001b[24;0f\u001b[42m\u001b[30mProgress: [  0%]\u001b[49m\u001b[39m [..........................................................] \u001b8\u001b7\u001b[24;0f\u001b[42m\u001b[30mProgress: [ 20%]\u001b[49m\u001b[39m [###########...............................................] \u001b8Unpacking sudo (1.9.9-1ubuntu2.4) ...\n",
      "\u001b7\u001b[24;0f\u001b[42m\u001b[30mProgress: [ 40%]\u001b[49m\u001b[39m [#######################...................................] \u001b8Setting up sudo (1.9.9-1ubuntu2.4) ...\n",
      "\u001b7\u001b[24;0f\u001b[42m\u001b[30mProgress: [ 60%]\u001b[49m\u001b[39m [##################################........................] \u001b8\u001b7\u001b[24;0f\u001b[42m\u001b[30mProgress: [ 80%]\u001b[49m\u001b[39m [##############################################............] \u001b8Processing triggers for libc-bin (2.35-0ubuntu3.1) ...\n",
      "\n",
      "\u001b7\u001b[0;24r\u001b8\u001b[1A\u001b[J"
     ]
    }
   ],
   "source": [
    "!apt-get update\n",
    "!apt install wget git python3.10 python3-venv -y\n",
    "!apt install --no-install-recommends google-perftools -y\n",
    "!apt install sudo"
   ]
  },
  {
   "cell_type": "code",
   "execution_count": 3,
   "id": "e242c97a-4902-4be7-9816-a45f7470a858",
   "metadata": {},
   "outputs": [],
   "source": [
    "# IMPORTANT: Create a new user that owns the Stable Diffusion directory (easier to just have it own workspace)\n",
    "# bcus Automatic1111 prevents being run as root\n",
    "import os\n",
    "os.system(\"useradd -p user user\")\n",
    "\n",
    "!sudo chown -R user:user /workspace\n",
    "\n",
    "# import crypt\n",
    "# password =\"user\" \n",
    "# encPass = crypt.crypt(password,\"22\")\n",
    "# os.system(\"useradd -p \"+password+\" user\")"
   ]
  },
  {
   "cell_type": "code",
   "execution_count": 2,
   "id": "9b5fd9f4-d722-4bba-ab65-1c8e24d1f8ae",
   "metadata": {},
   "outputs": [
    {
     "name": "stdout",
     "output_type": "stream",
     "text": [
      "root\n",
      "su: user user does not exist or the user entry does not contain all the required fields\n"
     ]
    }
   ],
   "source": [
    "!whoami\n",
    "!su user -c whoami\n",
    "# !userdel user"
   ]
  },
  {
   "cell_type": "code",
   "execution_count": 42,
   "id": "7eaebefd-052c-4ba7-8868-301ed461070c",
   "metadata": {},
   "outputs": [
    {
     "name": "stdout",
     "output_type": "stream",
     "text": [
      "Cloning into '/workspace/stable-diffusion-webui'...\n",
      "remote: Enumerating objects: 23855, done.\u001b[K\n",
      "remote: Counting objects: 100% (28/28), done.\u001b[K\n",
      "remote: Compressing objects: 100% (17/17), done.\u001b[K\n",
      "remote: Total 23855 (delta 15), reused 18 (delta 11), pack-reused 23827\u001b[K\n",
      "Receiving objects: 100% (23855/23855), 31.00 MiB | 20.80 MiB/s, done.\n",
      "Resolving deltas: 100% (16711/16711), done.\n"
     ]
    }
   ],
   "source": [
    "# IMPORTANT: Clone as a non-root user bcus Automatic1111 prevents being run as root\n",
    "!su user -c \"git clone https://github.com/AUTOMATIC1111/stable-diffusion-webui /workspace/stable-diffusion-webui\" \n",
    "\n",
    "# Uncomment if not working!!\n",
    "!su user -c \"python3.10 -m venv stable-diffusion-webui/venv\"\n",
    "# !python3.10 -m venv stable-diffusion-webui/venv"
   ]
  },
  {
   "cell_type": "code",
   "execution_count": 30,
   "id": "bbaf7f4a-173b-4914-88fe-4f0e70dd049b",
   "metadata": {},
   "outputs": [],
   "source": [
    "# import shutil\n",
    "# shutil.rmtree(\"stable-diffusion-webui\")"
   ]
  },
  {
   "cell_type": "code",
   "execution_count": 4,
   "id": "2f985a97-030e-4350-96e5-258ef4036be5",
   "metadata": {},
   "outputs": [
    {
     "name": "stdout",
     "output_type": "stream",
     "text": [
      "\n",
      "################################################################\n",
      "\u001b[1m\u001b[32mInstall script for stable-diffusion + Web UI\n",
      "\u001b[1m\u001b[34mTested on Debian 11 (Bullseye)\u001b[0m\n",
      "################################################################\n",
      "\n",
      "################################################################\n",
      "Running on \u001b[1m\u001b[32muser\u001b[0m user\n",
      "################################################################\n",
      "\n",
      "################################################################\n",
      "Create and activate python venv\n",
      "################################################################\n",
      "\n",
      "################################################################\n",
      "Launching launch.py...\n",
      "################################################################\n",
      "Using TCMalloc: libtcmalloc_minimal.so.4\n",
      "Python 3.10.6 (main, May 29 2023, 11:10:38) [GCC 11.3.0]\n",
      "Version: v1.4.1\n",
      "Commit hash: f865d3e11647dfd6c7b2cdf90dde24680e58acd8\n",
      "Traceback (most recent call last):\n",
      "  File \"/workspace/stable-diffusion-webui/launch.py\", line 38, in <module>\n",
      "    main()\n",
      "  File \"/workspace/stable-diffusion-webui/launch.py\", line 29, in main\n",
      "    prepare_environment()\n",
      "  File \"/workspace/stable-diffusion-webui/modules/launch_utils.py\", line 268, in prepare_environment\n",
      "    raise RuntimeError(\n",
      "RuntimeError: Torch is not able to use GPU; add --skip-torch-cuda-test to COMMANDLINE_ARGS variable to disable this check\n"
     ]
    }
   ],
   "source": [
    "# Uncomment if not working!!\n",
    "# Execute as root to avoid error\n",
    "# !/workspace/stable-diffusion-webui/venv/bin/python3 -m pip install torch==2.0.1 torchvision==0.15.2 --extra-index-url https://download.pytorch.org/whl/cu118\n",
    "# !/workspace/stable-diffusion-webui/venv/bin/python3 -m pip install https://github.com/TencentARC/GFPGAN/archive/8d2447a2d918f8eba5a4a01463fd48e45126a379.zip --prefer-binary\n",
    "# !/workspace/stable-diffusion-webui/venv/bin/python3 -m pip install https://github.com/openai/CLIP/archive/d50d76daa670286dd6cacf3bcd80b5e4823fc8e1.zip --prefer-binary\n",
    "\n",
    "# !sudo chown -R user:user /workspace/stable-diffusion-webui/venv/\n",
    "# !sudo chown -R user:user /workspace/stable-diffusion-webui\n",
    "# !sudo chown -R user:user /home/user\n",
    "\n",
    "# Does not seem to work\n",
    "# import os\n",
    "# os.environ['MPLCONFIGDIR'] =  \"workspace/cache\"\n",
    "# os.environ['TRANSFORMERS_CACHE'] =  \"workspace/cache\"\n",
    "\n",
    "# IMPORTANT: Add this to venv/bin/activate\n",
    "# export MPLCONFIGDIR=\"workspace/cache\"\n",
    "# export TRANSFORMERS_CACHE=\"workspace/cache\"\n",
    "\n",
    "# Create the missing cache directories\n",
    "# !sudo su user mkdir -p /workspace/models--openai--clip-vit-large-patch14\n",
    "!sudo su user -c \"stable-diffusion-webui/webui.sh --share\"\n",
    "# !sudo su user -c \"stable-diffusion-webui/webui.sh --share --gradio-auth user:user\"\n",
    "# !sudo stable-diffusion-webui/webui-user.sh"
   ]
  },
  {
   "cell_type": "code",
   "execution_count": null,
   "id": "39a9ea47-1763-45a5-8d58-4cc973376dc3",
   "metadata": {},
   "outputs": [],
   "source": []
  }
 ],
 "metadata": {
  "kernelspec": {
   "display_name": "Python 3 (ipykernel)",
   "language": "python",
   "name": "python3"
  },
  "language_info": {
   "codemirror_mode": {
    "name": "ipython",
    "version": 3
   },
   "file_extension": ".py",
   "mimetype": "text/x-python",
   "name": "python",
   "nbconvert_exporter": "python",
   "pygments_lexer": "ipython3",
   "version": "3.10.6"
  }
 },
 "nbformat": 4,
 "nbformat_minor": 5
}
