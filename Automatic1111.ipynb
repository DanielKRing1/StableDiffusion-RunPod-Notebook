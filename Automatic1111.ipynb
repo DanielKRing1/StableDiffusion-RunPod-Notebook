{
 "cells": [
  {
   "cell_type": "code",
   "execution_count": 2,
   "id": "052f516a-ec8e-41a2-86a8-3c928c98cee8",
   "metadata": {
    "jupyter": {
     "source_hidden": true
    }
   },
   "outputs": [
    {
     "name": "stdout",
     "output_type": "stream",
     "text": [
      "Hit:1 http://archive.ubuntu.com/ubuntu jammy InRelease\n",
      "Hit:2 https://developer.download.nvidia.com/compute/cuda/repos/ubuntu2204/x86_64  InRelease\n",
      "Hit:3 http://archive.ubuntu.com/ubuntu jammy-updates InRelease                 \n",
      "Hit:4 http://archive.ubuntu.com/ubuntu jammy-backports InRelease               \n",
      "Hit:5 https://ppa.launchpadcontent.net/deadsnakes/ppa/ubuntu jammy InRelease\n",
      "Hit:6 http://security.ubuntu.com/ubuntu jammy-security InRelease\n",
      "Reading package lists... Done\n",
      "Reading package lists... Done\n",
      "Building dependency tree... Done\n",
      "Reading state information... Done\n",
      "wget is already the newest version (1.21.2-2ubuntu1).\n",
      "git is already the newest version (1:2.34.1-1ubuntu1.9).\n",
      "python3.10 is already the newest version (3.10.6-1~22.04.2ubuntu1.1).\n",
      "python3-venv is already the newest version (3.10.6-1~22.04).\n",
      "0 upgraded, 0 newly installed, 0 to remove and 5 not upgraded.\n",
      "Reading package lists... Done\n",
      "Building dependency tree... Done\n",
      "Reading state information... Done\n",
      "google-perftools is already the newest version (2.9.1-0ubuntu3).\n",
      "0 upgraded, 0 newly installed, 0 to remove and 5 not upgraded.\n",
      "Reading package lists... Done\n",
      "Building dependency tree... Done\n",
      "Reading state information... Done\n",
      "sudo is already the newest version (1.9.9-1ubuntu2.4).\n",
      "0 upgraded, 0 newly installed, 0 to remove and 5 not upgraded.\n"
     ]
    }
   ],
   "source": [
    "!apt-get update\n",
    "!apt install wget git python3.10 python3-venv -y\n",
    "!apt install --no-install-recommends google-perftools -y\n",
    "!apt install sudo"
   ]
  },
  {
   "cell_type": "code",
   "execution_count": 10,
   "id": "e242c97a-4902-4be7-9816-a45f7470a858",
   "metadata": {},
   "outputs": [],
   "source": [
    "# IMPORTANT: Create a new user that owns the Stable Diffusion directory (easier to just have it own workspace)\n",
    "# bcus Automatic1111 prevents being run as root\n",
    "import os\n",
    "os.system(\"useradd -p user user\")\n",
    "\n",
    "!sudo chown -R user:user /workspace\n",
    "!mkdir /home/user"
   ]
  },
  {
   "cell_type": "code",
   "execution_count": 4,
   "id": "9b5fd9f4-d722-4bba-ab65-1c8e24d1f8ae",
   "metadata": {},
   "outputs": [
    {
     "name": "stdout",
     "output_type": "stream",
     "text": [
      "root\n",
      "user\n"
     ]
    }
   ],
   "source": [
    "!whoami\n",
    "!su user -c whoami\n",
    "# !userdel user"
   ]
  },
  {
   "cell_type": "code",
   "execution_count": 5,
   "id": "7eaebefd-052c-4ba7-8868-301ed461070c",
   "metadata": {},
   "outputs": [
    {
     "name": "stdout",
     "output_type": "stream",
     "text": [
      "Cloning into '/workspace/stable-diffusion-webui'...\n",
      "remote: Enumerating objects: 23865, done.\u001b[K\n",
      "remote: Counting objects: 100% (38/38), done.\u001b[K\n",
      "remote: Compressing objects: 100% (24/24), done.\u001b[K\n",
      "remote: Total 23865 (delta 21), reused 25 (delta 14), pack-reused 23827\u001b[K\n",
      "Receiving objects: 100% (23865/23865), 31.01 MiB | 16.71 MiB/s, done.\n",
      "Resolving deltas: 100% (16717/16717), done.\n"
     ]
    }
   ],
   "source": [
    "# IMPORTANT: Clone as a non-root user bcus Automatic1111 prevents being run as root\n",
    "!su user -c \"git clone https://github.com/AUTOMATIC1111/stable-diffusion-webui /workspace/stable-diffusion-webui\" \n",
    "\n",
    "# Uncomment if not working!!\n",
    "!su user -c \"python3.10 -m venv stable-diffusion-webui/venv\"\n",
    "# !python3.10 -m venv stable-diffusion-webui/venv"
   ]
  },
  {
   "cell_type": "code",
   "execution_count": 6,
   "id": "bbaf7f4a-173b-4914-88fe-4f0e70dd049b",
   "metadata": {},
   "outputs": [],
   "source": [
    "# import shutil\n",
    "# shutil.rmtree(\"stable-diffusion-webui\")"
   ]
  },
  {
   "cell_type": "code",
   "execution_count": null,
   "id": "2f985a97-030e-4350-96e5-258ef4036be5",
   "metadata": {},
   "outputs": [
    {
     "name": "stdout",
     "output_type": "stream",
     "text": [
      "\n",
      "################################################################\n",
      "\u001b[1m\u001b[32mInstall script for stable-diffusion + Web UI\n",
      "\u001b[1m\u001b[34mTested on Debian 11 (Bullseye)\u001b[0m\n",
      "################################################################\n",
      "\n",
      "################################################################\n",
      "Running on \u001b[1m\u001b[32muser\u001b[0m user\n",
      "################################################################\n",
      "\n",
      "################################################################\n",
      "Create and activate python venv\n",
      "################################################################\n",
      "\n",
      "################################################################\n",
      "Launching launch.py...\n",
      "################################################################\n",
      "Using TCMalloc: libtcmalloc_minimal.so.4\n",
      "Python 3.10.6 (main, May 29 2023, 11:10:38) [GCC 11.3.0]\n",
      "Version: v1.4.1\n",
      "Commit hash: f865d3e11647dfd6c7b2cdf90dde24680e58acd8\n",
      "Installing requirements\n",
      "Launching Web UI with arguments: --share --gradio-auth user:user\n",
      "No module 'xformers'. Proceeding without it.\n",
      "Calculating sha256 for /workspace/stable-diffusion-webui/models/Stable-diffusion/model1.ckpt: preload_extensions_git_metadata for 7 extensions took 0.00s\n",
      "Running on local URL:  http://127.0.0.1:7865\n",
      "8e0b2bdeae50fa0ff6e8d5b39650bba90239dc0726fc62be5997292c7598611a\n",
      "Loading weights [8e0b2bdeae] from /workspace/stable-diffusion-webui/models/Stable-diffusion/model1.ckpt\n",
      "Creating model from config: /workspace/stable-diffusion-webui/configs/v1-inference.yaml\n",
      "LatentDiffusion: Running in eps-prediction mode\n",
      "DiffusionWrapper has 859.52 M params.\n",
      "Applying attention optimization: Doggettx... done.\n",
      "Textual inversion embeddings loaded(0): \n",
      "Model loaded in 3.1s (calculate hash: 1.6s, load weights from disk: 0.6s, create model: 0.3s, apply weights to model: 0.3s, apply half(): 0.2s, move model to device: 0.1s).\n",
      "Running on public URL: https://d0647b4d5f054c36de.gradio.live\n",
      "\n",
      "This share link expires in 72 hours. For free permanent hosting and GPU upgrades (NEW!), check out Spaces: https://huggingface.co/spaces\n",
      "Startup time: 5.6s (import torch: 0.7s, import gradio: 0.6s, import ldm: 0.2s, other imports: 0.5s, load scripts: 0.3s, create ui: 0.3s, gradio launch: 3.0s).\n",
      "  0%|                                                    | 0/20 [00:00<?, ?it/s]\n",
      "  5%|██▏                                         | 1/20 [00:00<00:04,  4.69it/s]\u001b[A\n",
      " 35%|███████████████▍                            | 7/20 [00:00<00:00, 18.99it/s]\u001b[A\n",
      " 50%|█████████████████████▌                     | 10/20 [00:00<00:00, 21.87it/s]\u001b[A\n",
      " 65%|███████████████████████████▉               | 13/20 [00:00<00:00, 23.53it/s]\u001b[A\n",
      " 80%|██████████████████████████████████▍        | 16/20 [00:00<00:00, 24.75it/s]\u001b[A\n",
      "100%|███████████████████████████████████████████| 20/20 [00:00<00:00, 21.85it/s]\u001b[A\n",
      "\n",
      "Total progress: 100%|███████████████████████████| 20/20 [00:00<00:00, 24.46it/s]\u001b[A\n",
      "  0%|                                                    | 0/20 [00:00<?, ?it/s]\n",
      " 15%|██████▌                                     | 3/20 [00:00<00:00, 26.12it/s]\u001b[A\n",
      " 30%|█████████████▏                              | 6/20 [00:00<00:00, 26.31it/s]\u001b[A\n",
      " 45%|███████████████████▊                        | 9/20 [00:00<00:00, 26.76it/s]\u001b[A\n",
      " 60%|█████████████████████████▊                 | 12/20 [00:00<00:00, 26.96it/s]\u001b[A\n",
      " 75%|████████████████████████████████▎          | 15/20 [00:00<00:00, 27.09it/s]\u001b[A\n",
      "100%|███████████████████████████████████████████| 20/20 [00:00<00:00, 26.84it/s]\u001b[A\n",
      "\n",
      "Total progress: 100%|███████████████████████████| 20/20 [00:00<00:00, 24.84it/s]\u001b[A\n",
      "  0%|                                                    | 0/20 [00:00<?, ?it/s]\n",
      " 15%|██████▌                                     | 3/20 [00:00<00:00, 26.10it/s]\u001b[A\n",
      " 30%|█████████████▏                              | 6/20 [00:00<00:00, 26.25it/s]\u001b[A\n",
      " 45%|███████████████████▊                        | 9/20 [00:00<00:00, 26.56it/s]\u001b[A\n",
      " 60%|█████████████████████████▊                 | 12/20 [00:00<00:00, 26.84it/s]\u001b[A\n",
      " 75%|████████████████████████████████▎          | 15/20 [00:00<00:00, 26.93it/s]\u001b[A\n",
      "100%|███████████████████████████████████████████| 20/20 [00:00<00:00, 26.85it/s]\u001b[A\n",
      "\n",
      "Total progress: 100%|███████████████████████████| 20/20 [00:00<00:00, 25.06it/s]\u001b[A\n",
      "  0%|                                                    | 0/20 [00:00<?, ?it/s]\n",
      " 15%|██████▌                                     | 3/20 [00:00<00:00, 26.14it/s]\u001b[A\n",
      " 30%|█████████████▏                              | 6/20 [00:00<00:00, 26.24it/s]\u001b[A\n",
      " 45%|███████████████████▊                        | 9/20 [00:00<00:00, 26.41it/s]\u001b[A\n",
      " 60%|█████████████████████████▊                 | 12/20 [00:00<00:00, 26.76it/s]\u001b[A\n",
      " 75%|████████████████████████████████▎          | 15/20 [00:00<00:00, 26.95it/s]\u001b[A\n",
      " 90%|██████████████████████████████████████▋    | 18/20 [00:00<00:00, 27.06it/s]\u001b[A\n",
      "100%|███████████████████████████████████████████| 20/20 [00:00<00:00, 26.84it/s]\u001b[A\n",
      "  0%|                                                    | 0/20 [00:00<?, ?it/s]\n",
      " 15%|██████▌                                     | 3/20 [00:00<00:00, 26.96it/s]\u001b[A\n",
      " 30%|█████████████▏                              | 6/20 [00:00<00:00, 27.14it/s]\u001b[A\n",
      " 45%|███████████████████▊                        | 9/20 [00:00<00:00, 27.17it/s]\u001b[A\n",
      " 60%|█████████████████████████▊                 | 12/20 [00:00<00:00, 27.21it/s]\u001b[A\n",
      " 75%|████████████████████████████████▎          | 15/20 [00:00<00:00, 27.21it/s]\u001b[A\n",
      "100%|███████████████████████████████████████████| 20/20 [00:00<00:00, 27.20it/s]\u001b[A\n",
      "  0%|                                                    | 0/20 [00:00<?, ?it/s]\n",
      " 15%|██████▌                                     | 3/20 [00:00<00:00, 26.99it/s]\u001b[A\n",
      " 30%|█████████████▏                              | 6/20 [00:00<00:00, 27.15it/s]\u001b[A\n",
      " 45%|███████████████████▊                        | 9/20 [00:00<00:00, 27.20it/s]\u001b[A\n",
      " 60%|█████████████████████████▊                 | 12/20 [00:00<00:00, 27.23it/s]\u001b[A\n",
      " 75%|████████████████████████████████▎          | 15/20 [00:00<00:00, 27.24it/s]\u001b[A\n",
      " 90%|██████████████████████████████████████▋    | 18/20 [00:00<00:00, 27.26it/s]\u001b[A\n",
      "100%|███████████████████████████████████████████| 20/20 [00:00<00:00, 27.21it/s]\u001b[A\n",
      "  0%|                                                    | 0/20 [00:00<?, ?it/s]\n",
      " 15%|██████▌                                     | 3/20 [00:00<00:00, 26.94it/s]\u001b[A\n",
      " 30%|█████████████▏                              | 6/20 [00:00<00:00, 27.11it/s]\u001b[A\n",
      " 45%|███████████████████▊                        | 9/20 [00:00<00:00, 27.19it/s]\u001b[A\n",
      " 60%|█████████████████████████▊                 | 12/20 [00:00<00:00, 27.22it/s]\u001b[A\n",
      " 75%|████████████████████████████████▎          | 15/20 [00:00<00:00, 27.23it/s]\u001b[A\n",
      " 90%|██████████████████████████████████████▋    | 18/20 [00:00<00:00, 27.24it/s]\u001b[A\n",
      "100%|███████████████████████████████████████████| 20/20 [00:00<00:00, 27.22it/s]\u001b[A\n",
      "  0%|                                                    | 0/20 [00:00<?, ?it/s]\n",
      " 15%|██████▌                                     | 3/20 [00:00<00:00, 26.91it/s]\u001b[A\n",
      " 30%|█████████████▏                              | 6/20 [00:00<00:00, 27.14it/s]\u001b[A\n",
      " 45%|███████████████████▊                        | 9/20 [00:00<00:00, 27.19it/s]\u001b[A\n",
      " 60%|█████████████████████████▊                 | 12/20 [00:00<00:00, 27.23it/s]\u001b[A\n",
      " 75%|████████████████████████████████▎          | 15/20 [00:00<00:00, 27.24it/s]\u001b[A\n",
      "100%|███████████████████████████████████████████| 20/20 [00:00<00:00, 27.21it/s]\u001b[A\n",
      "\n",
      "Total progress: 100%|█████████████████████████| 100/100 [00:04<00:00, 22.68it/s]\u001b[A\n"
     ]
    }
   ],
   "source": [
    "# IMPORTANT: Add this to venv/bin/activate\n",
    "# export MPLCONFIGDIR=\"workspace/cache\"\n",
    "# export TRANSFORMERS_CACHE=\"workspace/cache\"\n",
    "!echo \"export MPLCONFIGDIR=\\\"workspace/cache\\\"\\nexport TRANSFORMERS_CACHE=\\\"workspace/cache\\\"\" >> /workspace/stable-diffusion-webui/venv/bin/activate\n",
    "\n",
    "# Create the missing cache directories\n",
    "!sudo su user -c \"stable-diffusion-webui/webui.sh --share --gradio-auth user:user\""
   ]
  },
  {
   "cell_type": "code",
   "execution_count": null,
   "id": "39a9ea47-1763-45a5-8d58-4cc973376dc3",
   "metadata": {},
   "outputs": [],
   "source": []
  }
 ],
 "metadata": {
  "kernelspec": {
   "display_name": "Python 3 (ipykernel)",
   "language": "python",
   "name": "python3"
  },
  "language_info": {
   "codemirror_mode": {
    "name": "ipython",
    "version": 3
   },
   "file_extension": ".py",
   "mimetype": "text/x-python",
   "name": "python",
   "nbconvert_exporter": "python",
   "pygments_lexer": "ipython3",
   "version": "3.10.6"
  }
 },
 "nbformat": 4,
 "nbformat_minor": 5
}
